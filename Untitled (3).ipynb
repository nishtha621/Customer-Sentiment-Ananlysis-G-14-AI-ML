{
 "cells": [
  {
   "cell_type": "code",
   "execution_count": 1,
   "id": "6d42907b",
   "metadata": {},
   "outputs": [],
   "source": [
    "import numpy as np\n",
    "import pandas as pd\n",
    "import matplotlib.pyplot as plt\n",
    "import seaborn as sns\n",
    "from nltk.tag import pos_tag\n",
    "from nltk.tokenize import word_tokenize\n",
    "import nltk"
   ]
  },
  {
   "cell_type": "code",
   "execution_count": 2,
   "id": "f85431db",
   "metadata": {},
   "outputs": [],
   "source": [
    "df=pd.read_csv('Reviews.csv')"
   ]
  },
  {
   "cell_type": "code",
   "execution_count": 3,
   "id": "04daab1f",
   "metadata": {},
   "outputs": [
    {
     "name": "stdout",
     "output_type": "stream",
     "text": [
      "<class 'pandas.core.frame.DataFrame'>\n",
      "RangeIndex: 568454 entries, 0 to 568453\n",
      "Data columns (total 10 columns):\n",
      " #   Column                  Non-Null Count   Dtype \n",
      "---  ------                  --------------   ----- \n",
      " 0   Id                      568454 non-null  int64 \n",
      " 1   ProductId               568454 non-null  object\n",
      " 2   UserId                  568454 non-null  object\n",
      " 3   ProfileName             568428 non-null  object\n",
      " 4   HelpfulnessNumerator    568454 non-null  int64 \n",
      " 5   HelpfulnessDenominator  568454 non-null  int64 \n",
      " 6   Score                   568454 non-null  int64 \n",
      " 7   Time                    568454 non-null  int64 \n",
      " 8   Summary                 568427 non-null  object\n",
      " 9   Text                    568454 non-null  object\n",
      "dtypes: int64(5), object(5)\n",
      "memory usage: 43.4+ MB\n"
     ]
    }
   ],
   "source": [
    "df.info()"
   ]
  },
  {
   "cell_type": "code",
   "execution_count": 5,
   "id": "afa723d8",
   "metadata": {
    "scrolled": false
   },
   "outputs": [
    {
     "data": {
      "text/html": [
       "<div>\n",
       "<style scoped>\n",
       "    .dataframe tbody tr th:only-of-type {\n",
       "        vertical-align: middle;\n",
       "    }\n",
       "\n",
       "    .dataframe tbody tr th {\n",
       "        vertical-align: top;\n",
       "    }\n",
       "\n",
       "    .dataframe thead th {\n",
       "        text-align: right;\n",
       "    }\n",
       "</style>\n",
       "<table border=\"1\" class=\"dataframe\">\n",
       "  <thead>\n",
       "    <tr style=\"text-align: right;\">\n",
       "      <th></th>\n",
       "      <th>Id</th>\n",
       "      <th>ProductId</th>\n",
       "      <th>UserId</th>\n",
       "      <th>ProfileName</th>\n",
       "      <th>HelpfulnessNumerator</th>\n",
       "      <th>HelpfulnessDenominator</th>\n",
       "      <th>Score</th>\n",
       "      <th>Time</th>\n",
       "      <th>Summary</th>\n",
       "      <th>Text</th>\n",
       "    </tr>\n",
       "  </thead>\n",
       "  <tbody>\n",
       "    <tr>\n",
       "      <th>0</th>\n",
       "      <td>1</td>\n",
       "      <td>B001E4KFG0</td>\n",
       "      <td>A3SGXH7AUHU8GW</td>\n",
       "      <td>delmartian</td>\n",
       "      <td>1</td>\n",
       "      <td>1</td>\n",
       "      <td>5</td>\n",
       "      <td>1303862400</td>\n",
       "      <td>Good Quality Dog Food</td>\n",
       "      <td>I have bought several of the Vitality canned d...</td>\n",
       "    </tr>\n",
       "    <tr>\n",
       "      <th>1</th>\n",
       "      <td>2</td>\n",
       "      <td>B00813GRG4</td>\n",
       "      <td>A1D87F6ZCVE5NK</td>\n",
       "      <td>dll pa</td>\n",
       "      <td>0</td>\n",
       "      <td>0</td>\n",
       "      <td>1</td>\n",
       "      <td>1346976000</td>\n",
       "      <td>Not as Advertised</td>\n",
       "      <td>Product arrived labeled as Jumbo Salted Peanut...</td>\n",
       "    </tr>\n",
       "    <tr>\n",
       "      <th>2</th>\n",
       "      <td>3</td>\n",
       "      <td>B000LQOCH0</td>\n",
       "      <td>ABXLMWJIXXAIN</td>\n",
       "      <td>Natalia Corres \"Natalia Corres\"</td>\n",
       "      <td>1</td>\n",
       "      <td>1</td>\n",
       "      <td>4</td>\n",
       "      <td>1219017600</td>\n",
       "      <td>\"Delight\" says it all</td>\n",
       "      <td>This is a confection that has been around a fe...</td>\n",
       "    </tr>\n",
       "    <tr>\n",
       "      <th>3</th>\n",
       "      <td>4</td>\n",
       "      <td>B000UA0QIQ</td>\n",
       "      <td>A395BORC6FGVXV</td>\n",
       "      <td>Karl</td>\n",
       "      <td>3</td>\n",
       "      <td>3</td>\n",
       "      <td>2</td>\n",
       "      <td>1307923200</td>\n",
       "      <td>Cough Medicine</td>\n",
       "      <td>If you are looking for the secret ingredient i...</td>\n",
       "    </tr>\n",
       "    <tr>\n",
       "      <th>4</th>\n",
       "      <td>5</td>\n",
       "      <td>B006K2ZZ7K</td>\n",
       "      <td>A1UQRSCLF8GW1T</td>\n",
       "      <td>Michael D. Bigham \"M. Wassir\"</td>\n",
       "      <td>0</td>\n",
       "      <td>0</td>\n",
       "      <td>5</td>\n",
       "      <td>1350777600</td>\n",
       "      <td>Great taffy</td>\n",
       "      <td>Great taffy at a great price.  There was a wid...</td>\n",
       "    </tr>\n",
       "  </tbody>\n",
       "</table>\n",
       "</div>"
      ],
      "text/plain": [
       "   Id   ProductId          UserId                      ProfileName  \\\n",
       "0   1  B001E4KFG0  A3SGXH7AUHU8GW                       delmartian   \n",
       "1   2  B00813GRG4  A1D87F6ZCVE5NK                           dll pa   \n",
       "2   3  B000LQOCH0   ABXLMWJIXXAIN  Natalia Corres \"Natalia Corres\"   \n",
       "3   4  B000UA0QIQ  A395BORC6FGVXV                             Karl   \n",
       "4   5  B006K2ZZ7K  A1UQRSCLF8GW1T    Michael D. Bigham \"M. Wassir\"   \n",
       "\n",
       "   HelpfulnessNumerator  HelpfulnessDenominator  Score        Time  \\\n",
       "0                     1                       1      5  1303862400   \n",
       "1                     0                       0      1  1346976000   \n",
       "2                     1                       1      4  1219017600   \n",
       "3                     3                       3      2  1307923200   \n",
       "4                     0                       0      5  1350777600   \n",
       "\n",
       "                 Summary                                               Text  \n",
       "0  Good Quality Dog Food  I have bought several of the Vitality canned d...  \n",
       "1      Not as Advertised  Product arrived labeled as Jumbo Salted Peanut...  \n",
       "2  \"Delight\" says it all  This is a confection that has been around a fe...  \n",
       "3         Cough Medicine  If you are looking for the secret ingredient i...  \n",
       "4            Great taffy  Great taffy at a great price.  There was a wid...  "
      ]
     },
     "execution_count": 5,
     "metadata": {},
     "output_type": "execute_result"
    }
   ],
   "source": [
    "df.head()"
   ]
  },
  {
   "cell_type": "markdown",
   "id": "57b8036e",
   "metadata": {},
   "source": [
    "<h2>Data Cleaning</h2>"
   ]
  },
  {
   "cell_type": "markdown",
   "id": "98896612",
   "metadata": {},
   "source": [
    "First we will drop the null values"
   ]
  },
  {
   "cell_type": "code",
   "execution_count": 4,
   "id": "46631923",
   "metadata": {},
   "outputs": [],
   "source": [
    "df=df.dropna(subset=['ProfileName'])\n",
    "df=df.dropna(subset=['Summary'])"
   ]
  },
  {
   "cell_type": "markdown",
   "id": "233cc2a1",
   "metadata": {},
   "source": [
    "We will work maily on Score and Text data to do our Sentiment analysis but before that we will throughly clean the data.\n",
    "<br>\n",
    "Let us first check the distribution of Scores"
   ]
  },
  {
   "cell_type": "code",
   "execution_count": 5,
   "id": "27013212",
   "metadata": {},
   "outputs": [
    {
     "data": {
      "image/png": "[encoded data removed]",
      "text/plain": [
       "<Figure size 720x360 with 1 Axes>"
      ]
     },
     "metadata": {
      "needs_background": "light"
     },
     "output_type": "display_data"
    },
    {
     "name": "stdout",
     "output_type": "stream",
     "text": [
      "Score\n",
      "5    363102\n",
      "4     80654\n",
      "1     52264\n",
      "3     42638\n",
      "2     29743\n",
      "Name: count, dtype: int64\n"
     ]
    }
   ],
   "source": [
    "plt.figure(figsize=(10,5))\n",
    "sns.countplot(data=df,x='Score')\n",
    "plt.title(\"Distribution of Ratings\")\n",
    "plt.xlabel(\"Score\")\n",
    "plt.ylabel(\"Number of reviews corresponding to each of the 5 ratings\")\n",
    "plt.show()\n",
    "\n",
    "print(df['Score'].value_counts())"
   ]
  },
  {
   "cell_type": "markdown",
   "id": "fad55a95",
   "metadata": {},
   "source": [
    "The data is imbalanced which may lead to miss classification as the data is biased towards higher rating so later on to balance the data we will perform random under sampling technique"
   ]
  },
  {
   "cell_type": "markdown",
   "id": "e947be2c",
   "metadata": {},
   "source": [
    "For now we will remove the duplicates in the dataset first"
   ]
  },
  {
   "cell_type": "code",
   "execution_count": 6,
   "id": "8deac9b6",
   "metadata": {},
   "outputs": [
    {
     "data": {
      "text/html": [
       "<div>\n",
       "<style scoped>\n",
       "    .dataframe tbody tr th:only-of-type {\n",
       "        vertical-align: middle;\n",
       "    }\n",
       "\n",
       "    .dataframe tbody tr th {\n",
       "        vertical-align: top;\n",
       "    }\n",
       "\n",
       "    .dataframe thead th {\n",
       "        text-align: right;\n",
       "    }\n",
       "</style>\n",
       "<table border=\"1\" class=\"dataframe\">\n",
       "  <thead>\n",
       "    <tr style=\"text-align: right;\">\n",
       "      <th></th>\n",
       "      <th>Id</th>\n",
       "      <th>ProductId</th>\n",
       "      <th>UserId</th>\n",
       "      <th>ProfileName</th>\n",
       "      <th>HelpfulnessNumerator</th>\n",
       "      <th>HelpfulnessDenominator</th>\n",
       "      <th>Score</th>\n",
       "      <th>Time</th>\n",
       "      <th>Summary</th>\n",
       "      <th>Text</th>\n",
       "    </tr>\n",
       "  </thead>\n",
       "  <tbody>\n",
       "    <tr>\n",
       "      <th>29</th>\n",
       "      <td>30</td>\n",
       "      <td>B0001PB9FY</td>\n",
       "      <td>A3HDKO7OW0QNK4</td>\n",
       "      <td>Canadian Fan</td>\n",
       "      <td>1</td>\n",
       "      <td>1</td>\n",
       "      <td>5</td>\n",
       "      <td>1107820800</td>\n",
       "      <td>The Best Hot Sauce in the World</td>\n",
       "      <td>I don't know if it's the cactus or the tequila...</td>\n",
       "    </tr>\n",
       "    <tr>\n",
       "      <th>574</th>\n",
       "      <td>575</td>\n",
       "      <td>B000G6RYNE</td>\n",
       "      <td>A3PJZ8TU8FDQ1K</td>\n",
       "      <td>Jared Castle</td>\n",
       "      <td>2</td>\n",
       "      <td>2</td>\n",
       "      <td>5</td>\n",
       "      <td>1231718400</td>\n",
       "      <td>One bite and you'll become a \"chippoisseur\"</td>\n",
       "      <td>I'm addicted to salty and tangy flavors, so wh...</td>\n",
       "    </tr>\n",
       "    <tr>\n",
       "      <th>603</th>\n",
       "      <td>604</td>\n",
       "      <td>B000G6RYNE</td>\n",
       "      <td>A3PJZ8TU8FDQ1K</td>\n",
       "      <td>Jared Castle</td>\n",
       "      <td>1</td>\n",
       "      <td>1</td>\n",
       "      <td>5</td>\n",
       "      <td>1229385600</td>\n",
       "      <td>One bite and you'll become a \"chippoisseur\"</td>\n",
       "      <td>I'm addicted to salty and tangy flavors, so wh...</td>\n",
       "    </tr>\n",
       "    <tr>\n",
       "      <th>1973</th>\n",
       "      <td>1974</td>\n",
       "      <td>B0017165OG</td>\n",
       "      <td>A2EPNS38TTLZYN</td>\n",
       "      <td>tedebear</td>\n",
       "      <td>0</td>\n",
       "      <td>0</td>\n",
       "      <td>3</td>\n",
       "      <td>1312675200</td>\n",
       "      <td>Pok Chops</td>\n",
       "      <td>The pork chops from Omaha Steaks were very tas...</td>\n",
       "    </tr>\n",
       "    <tr>\n",
       "      <th>2309</th>\n",
       "      <td>2310</td>\n",
       "      <td>B0001VWE0M</td>\n",
       "      <td>AQM74O8Z4FMS0</td>\n",
       "      <td>Sunshine</td>\n",
       "      <td>0</td>\n",
       "      <td>0</td>\n",
       "      <td>2</td>\n",
       "      <td>1127606400</td>\n",
       "      <td>Below standard</td>\n",
       "      <td>Too much of the white pith on this orange peel...</td>\n",
       "    </tr>\n",
       "  </tbody>\n",
       "</table>\n",
       "</div>"
      ],
      "text/plain": [
       "        Id   ProductId          UserId   ProfileName  HelpfulnessNumerator  \\\n",
       "29      30  B0001PB9FY  A3HDKO7OW0QNK4  Canadian Fan                     1   \n",
       "574    575  B000G6RYNE  A3PJZ8TU8FDQ1K  Jared Castle                     2   \n",
       "603    604  B000G6RYNE  A3PJZ8TU8FDQ1K  Jared Castle                     1   \n",
       "1973  1974  B0017165OG  A2EPNS38TTLZYN      tedebear                     0   \n",
       "2309  2310  B0001VWE0M   AQM74O8Z4FMS0      Sunshine                     0   \n",
       "\n",
       "      HelpfulnessDenominator  Score        Time  \\\n",
       "29                         1      5  1107820800   \n",
       "574                        2      5  1231718400   \n",
       "603                        1      5  1229385600   \n",
       "1973                       0      3  1312675200   \n",
       "2309                       0      2  1127606400   \n",
       "\n",
       "                                          Summary  \\\n",
       "29                The Best Hot Sauce in the World   \n",
       "574   One bite and you'll become a \"chippoisseur\"   \n",
       "603   One bite and you'll become a \"chippoisseur\"   \n",
       "1973                                    Pok Chops   \n",
       "2309                               Below standard   \n",
       "\n",
       "                                                   Text  \n",
       "29    I don't know if it's the cactus or the tequila...  \n",
       "574   I'm addicted to salty and tangy flavors, so wh...  \n",
       "603   I'm addicted to salty and tangy flavors, so wh...  \n",
       "1973  The pork chops from Omaha Steaks were very tas...  \n",
       "2309  Too much of the white pith on this orange peel...  "
      ]
     },
     "execution_count": 6,
     "metadata": {},
     "output_type": "execute_result"
    }
   ],
   "source": [
    "duplicate_rows = df[df['Text'].duplicated()]\n",
    "\n",
    "duplicate_rows.head()"
   ]
  },
  {
   "cell_type": "code",
   "execution_count": 7,
   "id": "4f4f889a",
   "metadata": {},
   "outputs": [
    {
     "data": {
      "text/plain": [
       "(393914, 10)"
      ]
     },
     "execution_count": 7,
     "metadata": {},
     "output_type": "execute_result"
    }
   ],
   "source": [
    "# removing duplicates\n",
    "df=df.drop_duplicates(subset=[\"UserId\",\"ProfileName\",\"Time\",\"Text\"], keep='first')\n",
    "df.shape"
   ]
  },
  {
   "cell_type": "code",
   "execution_count": 8,
   "id": "9b87200e",
   "metadata": {},
   "outputs": [
    {
     "data": {
      "text/html": [
       "<div>\n",
       "<style scoped>\n",
       "    .dataframe tbody tr th:only-of-type {\n",
       "        vertical-align: middle;\n",
       "    }\n",
       "\n",
       "    .dataframe tbody tr th {\n",
       "        vertical-align: top;\n",
       "    }\n",
       "\n",
       "    .dataframe thead th {\n",
       "        text-align: right;\n",
       "    }\n",
       "</style>\n",
       "<table border=\"1\" class=\"dataframe\">\n",
       "  <thead>\n",
       "    <tr style=\"text-align: right;\">\n",
       "      <th></th>\n",
       "      <th>Id</th>\n",
       "      <th>ProductId</th>\n",
       "      <th>UserId</th>\n",
       "      <th>ProfileName</th>\n",
       "      <th>HelpfulnessNumerator</th>\n",
       "      <th>HelpfulnessDenominator</th>\n",
       "      <th>Score</th>\n",
       "      <th>Time</th>\n",
       "      <th>Summary</th>\n",
       "      <th>Text</th>\n",
       "    </tr>\n",
       "  </thead>\n",
       "  <tbody>\n",
       "    <tr>\n",
       "      <th>603</th>\n",
       "      <td>604</td>\n",
       "      <td>B000G6RYNE</td>\n",
       "      <td>A3PJZ8TU8FDQ1K</td>\n",
       "      <td>Jared Castle</td>\n",
       "      <td>1</td>\n",
       "      <td>1</td>\n",
       "      <td>5</td>\n",
       "      <td>1229385600</td>\n",
       "      <td>One bite and you'll become a \"chippoisseur\"</td>\n",
       "      <td>I'm addicted to salty and tangy flavors, so wh...</td>\n",
       "    </tr>\n",
       "    <tr>\n",
       "      <th>8762</th>\n",
       "      <td>8763</td>\n",
       "      <td>B004OLUCAE</td>\n",
       "      <td>A281NPSIMI1C2R</td>\n",
       "      <td>Rebecca of Amazon \"The Rebecca Review\"</td>\n",
       "      <td>0</td>\n",
       "      <td>0</td>\n",
       "      <td>5</td>\n",
       "      <td>1316131200</td>\n",
       "      <td>Delicious Alternative to Sugar</td>\n",
       "      <td>If you are looking for a sweetener that is del...</td>\n",
       "    </tr>\n",
       "    <tr>\n",
       "      <th>10860</th>\n",
       "      <td>10861</td>\n",
       "      <td>B0034KP00S</td>\n",
       "      <td>A1TMAVN4CEM8U8</td>\n",
       "      <td>Gunner</td>\n",
       "      <td>0</td>\n",
       "      <td>0</td>\n",
       "      <td>5</td>\n",
       "      <td>1332115200</td>\n",
       "      <td>My 3rd favorite flavor</td>\n",
       "      <td>Diamond Almonds&lt;br /&gt;Almonds are a good source...</td>\n",
       "    </tr>\n",
       "    <tr>\n",
       "      <th>10862</th>\n",
       "      <td>10863</td>\n",
       "      <td>B0034KP00S</td>\n",
       "      <td>A1TMAVN4CEM8U8</td>\n",
       "      <td>Gunner</td>\n",
       "      <td>0</td>\n",
       "      <td>0</td>\n",
       "      <td>5</td>\n",
       "      <td>1332028800</td>\n",
       "      <td>My 3rd favorite flavor</td>\n",
       "      <td>Diamond Almonds&lt;br /&gt;Almonds are a good source...</td>\n",
       "    </tr>\n",
       "    <tr>\n",
       "      <th>10884</th>\n",
       "      <td>10885</td>\n",
       "      <td>B0034KP00S</td>\n",
       "      <td>A1TMAVN4CEM8U8</td>\n",
       "      <td>Gunner</td>\n",
       "      <td>0</td>\n",
       "      <td>1</td>\n",
       "      <td>5</td>\n",
       "      <td>1336348800</td>\n",
       "      <td>I prefer the flavored</td>\n",
       "      <td>Diamond Almonds&lt;br /&gt;Almonds are a good source...</td>\n",
       "    </tr>\n",
       "  </tbody>\n",
       "</table>\n",
       "</div>"
      ],
      "text/plain": [
       "          Id   ProductId          UserId  \\\n",
       "603      604  B000G6RYNE  A3PJZ8TU8FDQ1K   \n",
       "8762    8763  B004OLUCAE  A281NPSIMI1C2R   \n",
       "10860  10861  B0034KP00S  A1TMAVN4CEM8U8   \n",
       "10862  10863  B0034KP00S  A1TMAVN4CEM8U8   \n",
       "10884  10885  B0034KP00S  A1TMAVN4CEM8U8   \n",
       "\n",
       "                                  ProfileName  HelpfulnessNumerator  \\\n",
       "603                              Jared Castle                     1   \n",
       "8762   Rebecca of Amazon \"The Rebecca Review\"                     0   \n",
       "10860                                  Gunner                     0   \n",
       "10862                                  Gunner                     0   \n",
       "10884                                  Gunner                     0   \n",
       "\n",
       "       HelpfulnessDenominator  Score        Time  \\\n",
       "603                         1      5  1229385600   \n",
       "8762                        0      5  1316131200   \n",
       "10860                       0      5  1332115200   \n",
       "10862                       0      5  1332028800   \n",
       "10884                       1      5  1336348800   \n",
       "\n",
       "                                           Summary  \\\n",
       "603    One bite and you'll become a \"chippoisseur\"   \n",
       "8762                Delicious Alternative to Sugar   \n",
       "10860                       My 3rd favorite flavor   \n",
       "10862                       My 3rd favorite flavor   \n",
       "10884                        I prefer the flavored   \n",
       "\n",
       "                                                    Text  \n",
       "603    I'm addicted to salty and tangy flavors, so wh...  \n",
       "8762   If you are looking for a sweetener that is del...  \n",
       "10860  Diamond Almonds<br />Almonds are a good source...  \n",
       "10862  Diamond Almonds<br />Almonds are a good source...  \n",
       "10884  Diamond Almonds<br />Almonds are a good source...  "
      ]
     },
     "execution_count": 8,
     "metadata": {},
     "output_type": "execute_result"
    }
   ],
   "source": [
    "duplicate_rows = df[df['Text'].duplicated()]\n",
    "duplicate_rows.head()"
   ]
  },
  {
   "cell_type": "markdown",
   "id": "e4e87780",
   "metadata": {},
   "source": [
    "We have removed the duplicate data"
   ]
  },
  {
   "cell_type": "code",
   "execution_count": 9,
   "id": "8478f95b",
   "metadata": {},
   "outputs": [
    {
     "data": {
      "text/plain": [
       "0         5\n",
       "1         1\n",
       "2         4\n",
       "3         2\n",
       "4         5\n",
       "         ..\n",
       "568449    5\n",
       "568450    2\n",
       "568451    5\n",
       "568452    5\n",
       "568453    5\n",
       "Name: Score, Length: 393914, dtype: int64"
      ]
     },
     "execution_count": 9,
     "metadata": {},
     "output_type": "execute_result"
    }
   ],
   "source": [
    "df['Score']"
   ]
  },
  {
   "cell_type": "markdown",
   "id": "e644ae82",
   "metadata": {},
   "source": [
    " We will classify scores as:\n",
    " <br>\n",
    " Above 3< : Positive (1)\n",
    " <br>\n",
    " Below 3> : Negative (0)"
   ]
  },
  {
   "cell_type": "markdown",
   "id": "1678a767",
   "metadata": {},
   "source": [
    "we only want to get the global sentiment of the recommendations (positive or negative), we will purposefully ignore all Scores equal to 3"
   ]
  },
  {
   "cell_type": "code",
   "execution_count": 10,
   "id": "35c13d9f",
   "metadata": {},
   "outputs": [],
   "source": [
    "df.drop(df[df['Score'] == 3].index, inplace=True)"
   ]
  },
  {
   "cell_type": "code",
   "execution_count": 11,
   "id": "49e7b807",
   "metadata": {},
   "outputs": [
    {
     "data": {
      "text/plain": [
       "0         1\n",
       "1         0\n",
       "2         1\n",
       "3         0\n",
       "4         1\n",
       "         ..\n",
       "568449    1\n",
       "568450    0\n",
       "568451    1\n",
       "568452    1\n",
       "568453    1\n",
       "Name: Score, Length: 364147, dtype: int64"
      ]
     },
     "execution_count": 11,
     "metadata": {},
     "output_type": "execute_result"
    }
   ],
   "source": [
    "def score(x):\n",
    "    if x<3:\n",
    "        return 0\n",
    "    return 1\n",
    "sc=df['Score']\n",
    "pos_neg=sc.map(score)\n",
    "df['Score']=pos_neg\n",
    "df['Score']"
   ]
  },
  {
   "cell_type": "markdown",
   "id": "52b248df",
   "metadata": {},
   "source": [
    "We will now look into the Helpfullness Numerator and Denomintaor"
   ]
  },
  {
   "cell_type": "code",
   "execution_count": 12,
   "id": "4ba5822b",
   "metadata": {},
   "outputs": [],
   "source": [
    "def sort_by_helpfulness_ratio(data):\n",
    "    # Filtering rows where Helpfulness Numerator is greater than Denominator\n",
    "    filtered_data = data[data['HelpfulnessNumerator'] > data['HelpfulnessDenominator']]\n",
    "    sorted_data = filtered_data.sort_values(by=['HelpfulnessNumerator', 'HelpfulnessDenominator'], ascending=False)\n",
    "    \n",
    "    return sorted_data"
   ]
  },
  {
   "cell_type": "code",
   "execution_count": 13,
   "id": "c4e637e9",
   "metadata": {
    "scrolled": false
   },
   "outputs": [
    {
     "data": {
      "text/html": [
       "<div>\n",
       "<style scoped>\n",
       "    .dataframe tbody tr th:only-of-type {\n",
       "        vertical-align: middle;\n",
       "    }\n",
       "\n",
       "    .dataframe tbody tr th {\n",
       "        vertical-align: top;\n",
       "    }\n",
       "\n",
       "    .dataframe thead th {\n",
       "        text-align: right;\n",
       "    }\n",
       "</style>\n",
       "<table border=\"1\" class=\"dataframe\">\n",
       "  <thead>\n",
       "    <tr style=\"text-align: right;\">\n",
       "      <th></th>\n",
       "      <th>Id</th>\n",
       "      <th>ProductId</th>\n",
       "      <th>UserId</th>\n",
       "      <th>ProfileName</th>\n",
       "      <th>HelpfulnessNumerator</th>\n",
       "      <th>HelpfulnessDenominator</th>\n",
       "      <th>Score</th>\n",
       "      <th>Time</th>\n",
       "      <th>Summary</th>\n",
       "      <th>Text</th>\n",
       "    </tr>\n",
       "  </thead>\n",
       "  <tbody>\n",
       "    <tr>\n",
       "      <th>44736</th>\n",
       "      <td>44737</td>\n",
       "      <td>B001EQ55RW</td>\n",
       "      <td>A2V0I904FH7ABY</td>\n",
       "      <td>Ram</td>\n",
       "      <td>3</td>\n",
       "      <td>2</td>\n",
       "      <td>1</td>\n",
       "      <td>1212883200</td>\n",
       "      <td>Pure cocoa taste with crunchy almonds inside</td>\n",
       "      <td>It was almost a 'love at first bite' - the per...</td>\n",
       "    </tr>\n",
       "    <tr>\n",
       "      <th>64421</th>\n",
       "      <td>64422</td>\n",
       "      <td>B000MIDROQ</td>\n",
       "      <td>A161DK06JJMCYF</td>\n",
       "      <td>J. E. Stephens \"Jeanne\"</td>\n",
       "      <td>3</td>\n",
       "      <td>1</td>\n",
       "      <td>1</td>\n",
       "      <td>1224892800</td>\n",
       "      <td>Bought This for My Son at College</td>\n",
       "      <td>My son loves spaghetti so I didn't hesitate or...</td>\n",
       "    </tr>\n",
       "  </tbody>\n",
       "</table>\n",
       "</div>"
      ],
      "text/plain": [
       "          Id   ProductId          UserId              ProfileName  \\\n",
       "44736  44737  B001EQ55RW  A2V0I904FH7ABY                      Ram   \n",
       "64421  64422  B000MIDROQ  A161DK06JJMCYF  J. E. Stephens \"Jeanne\"   \n",
       "\n",
       "       HelpfulnessNumerator  HelpfulnessDenominator  Score        Time  \\\n",
       "44736                     3                       2      1  1212883200   \n",
       "64421                     3                       1      1  1224892800   \n",
       "\n",
       "                                            Summary  \\\n",
       "44736  Pure cocoa taste with crunchy almonds inside   \n",
       "64421             Bought This for My Son at College   \n",
       "\n",
       "                                                    Text  \n",
       "44736  It was almost a 'love at first bite' - the per...  \n",
       "64421  My son loves spaghetti so I didn't hesitate or...  "
      ]
     },
     "execution_count": 13,
     "metadata": {},
     "output_type": "execute_result"
    }
   ],
   "source": [
    "sorted_data = sort_by_helpfulness_ratio(df)\n",
    "sorted_data"
   ]
  },
  {
   "cell_type": "markdown",
   "id": "2de2d758",
   "metadata": {},
   "source": [
    "In the context of Amazon fine food reviews, the Helpfulness Numerator typically represents the number of people who found a review helpful, while the Helpfulness Denominator represents the total number of people who voted whether the review was helpful or not. It's indeed not practically possible for the Helpfulness Numerator to be greater than the Helpfulness Denominator.\n",
    "\n",
    "So we will remove the data which row contain Helpfulness Numerator is greater than HelpfullnessDenominator."
   ]
  },
  {
   "cell_type": "code",
   "execution_count": 14,
   "id": "cf8e8455",
   "metadata": {},
   "outputs": [
    {
     "data": {
      "text/plain": [
       "(364145, 10)"
      ]
     },
     "execution_count": 14,
     "metadata": {},
     "output_type": "execute_result"
    }
   ],
   "source": [
    "final=df[df.HelpfulnessNumerator<=df.HelpfulnessDenominator]\n",
    "final.shape"
   ]
  },
  {
   "cell_type": "code",
   "execution_count": 15,
   "id": "8b440cf0",
   "metadata": {},
   "outputs": [
    {
     "data": {
      "text/plain": [
       "0         1\n",
       "1         0\n",
       "2         1\n",
       "3         0\n",
       "4         1\n",
       "         ..\n",
       "568449    1\n",
       "568450    0\n",
       "568451    1\n",
       "568452    1\n",
       "568453    1\n",
       "Name: Score, Length: 364147, dtype: int64"
      ]
     },
     "execution_count": 15,
     "metadata": {},
     "output_type": "execute_result"
    }
   ],
   "source": [
    "df['Score']"
   ]
  },
  {
   "cell_type": "code",
   "execution_count": 11,
   "id": "811e4c0d",
   "metadata": {
    "scrolled": true
   },
   "outputs": [
    {
     "name": "stdout",
     "output_type": "stream",
     "text": [
      "Collecting imblearn\n",
      "  Downloading imblearn-0.0-py2.py3-none-any.whl (1.9 kB)\n",
      "Collecting imbalanced-learn\n",
      "  Downloading imbalanced_learn-0.12.2-py3-none-any.whl (257 kB)\n",
      "Requirement already satisfied: scikit-learn>=1.0.2 in c:\\users\\nishtha tandon\\anaconda3\\lib\\site-packages (from imbalanced-learn->imblearn) (1.4.1.post1)\n",
      "Requirement already satisfied: numpy>=1.17.3 in c:\\users\\nishtha tandon\\anaconda3\\lib\\site-packages (from imbalanced-learn->imblearn) (1.26.4)\n",
      "Requirement already satisfied: joblib>=1.1.1 in c:\\users\\nishtha tandon\\anaconda3\\lib\\site-packages (from imbalanced-learn->imblearn) (1.3.2)\n",
      "Requirement already satisfied: scipy>=1.5.0 in c:\\users\\nishtha tandon\\anaconda3\\lib\\site-packages (from imbalanced-learn->imblearn) (1.13.0)\n",
      "Requirement already satisfied: threadpoolctl>=2.0.0 in c:\\users\\nishtha tandon\\anaconda3\\lib\\site-packages (from imbalanced-learn->imblearn) (2.2.0)\n",
      "Installing collected packages: imbalanced-learn, imblearn\n",
      "Successfully installed imbalanced-learn-0.12.2 imblearn-0.0\n",
      "Note: you may need to restart the kernel to use updated packages.\n"
     ]
    }
   ],
   "source": [
    "pip install imblearn"
   ]
  },
  {
   "cell_type": "code",
   "execution_count": 16,
   "id": "6609c2f4",
   "metadata": {},
   "outputs": [],
   "source": [
    "from imblearn.under_sampling import RandomUnderSampler"
   ]
  },
  {
   "cell_type": "code",
   "execution_count": 17,
   "id": "3615f11d",
   "metadata": {},
   "outputs": [],
   "source": [
    "def balance_data_with_random_undersampling(final, Score):\n",
    "    class_distribution = final['Score'].value_counts()\n",
    "    print(\"Class distribution before random undersampling:\")\n",
    "    print(class_distribution)\n",
    "    \n",
    "    # Identify classes with fewer instances\n",
    "    minority_class = class_distribution.idxmin()\n",
    "    minority_class_count = class_distribution.min()\n",
    "    \n",
    "    # Apply random undersampling\n",
    "    rus = RandomUnderSampler(sampling_strategy='auto', random_state=42)\n",
    "    X_resampled, y_resampled = rus.fit_resample(final.drop(columns=['Score']), final['Score'])\n",
    "    \n",
    "    # Create a balanced DataFrame\n",
    "    balanced_df = pd.DataFrame(X_resampled, columns=final.drop(columns=['Score']).columns)\n",
    "    balanced_df['Score'] = y_resampled\n",
    "    \n",
    "    # Check class distribution after random undersampling\n",
    "    class_distribution_after = balanced_df['Score'].value_counts()\n",
    "    print(\"\\nClass distribution after random undersampling:\")\n",
    "    print(class_distribution_after)\n",
    "    \n",
    "    return balanced_df"
   ]
  },
  {
   "cell_type": "code",
   "execution_count": 18,
   "id": "379b0b9a",
   "metadata": {},
   "outputs": [
    {
     "name": "stdout",
     "output_type": "stream",
     "text": [
      "Class distribution before random undersampling:\n",
      "Score\n",
      "1    307042\n",
      "0     57103\n",
      "Name: count, dtype: int64\n",
      "\n",
      "Class distribution after random undersampling:\n",
      "Score\n",
      "0    57103\n",
      "1    57103\n",
      "Name: count, dtype: int64\n"
     ]
    }
   ],
   "source": [
    "balanced_df = balance_data_with_random_undersampling(final, 'Score')"
   ]
  },
  {
   "cell_type": "code",
   "execution_count": 19,
   "id": "919a0f8a",
   "metadata": {
    "scrolled": true
   },
   "outputs": [
    {
     "data": {
      "image/png": "[encoded data removed]",
      "text/plain": [
       "<Figure size 720x360 with 1 Axes>"
      ]
     },
     "metadata": {
      "needs_background": "light"
     },
     "output_type": "display_data"
    },
    {
     "name": "stdout",
     "output_type": "stream",
     "text": [
      "Score\n",
      "0    57103\n",
      "1    57103\n",
      "Name: count, dtype: int64\n"
     ]
    }
   ],
   "source": [
    "plt.figure(figsize=(10,5))\n",
    "sns.countplot(data=balanced_df,x='Score')\n",
    "plt.title(\"Distribution of Ratings\")\n",
    "plt.xlabel(\"Score\")\n",
    "plt.ylabel(\"Number of reviews corresponding to each of the 5 ratings\")\n",
    "plt.show()\n",
    "\n",
    "print(balanced_df['Score'].value_counts())"
   ]
  },
  {
   "cell_type": "markdown",
   "id": "9995c808",
   "metadata": {},
   "source": [
    "Balancing the data helps prevent the model from being biased towards the majority class and can lead to better generalization performance."
   ]
  },
  {
   "cell_type": "markdown",
   "id": "4fa4ca8a",
   "metadata": {},
   "source": [
    "# Text Processing"
   ]
  },
  {
   "cell_type": "markdown",
   "id": "5bc61f45",
   "metadata": {},
   "source": [
    "In Text Preprocessing we will work on the Text Column "
   ]
  },
  {
   "cell_type": "markdown",
   "id": "ccb0d879",
   "metadata": {},
   "source": [
    "HTML Tags removal:\n",
    "\n",
    "In the context of text data preprocessing, removing HTML tags is important because they typically don't carry any meaningful information for natural language processing tasks and can potentially introduce noise into your dataset"
   ]
  },
  {
   "cell_type": "code",
   "execution_count": 20,
   "id": "72f7c599",
   "metadata": {},
   "outputs": [
    {
     "name": "stdout",
     "output_type": "stream",
     "text": [
      "This is HTML text with links .\n"
     ]
    }
   ],
   "source": [
    "from bs4 import BeautifulSoup\n",
    "import re\n",
    "\n",
    "def remove_html_tags(text):\n",
    "    # Use BeautifulSoup to parse HTML\n",
    "    soup = BeautifulSoup(text, \"html.parser\")\n",
    "    # Extract text without HTML tags\n",
    "    text_without_tags = soup.get_text(separator=\" \")\n",
    "    # Remove extra whitespace\n",
    "    text_without_tags = re.sub(r'\\s+', ' ', text_without_tags).strip()\n",
    "    return text_without_tags\n",
    "\n",
    "# Example usage:\n",
    "html_text = \"<p>This is <b>HTML  </b> text with <a href='#'>links</a>.</p>\"\n",
    "clean_text = remove_html_tags(html_text)\n",
    "print(clean_text)\n"
   ]
  },
  {
   "cell_type": "markdown",
   "id": "5a235052",
   "metadata": {},
   "source": [
    "Punctuation removal:"
   ]
  },
  {
   "cell_type": "markdown",
   "id": "a9e33ee0",
   "metadata": {},
   "source": [
    "Removing punctuation ensures consistency in the text data. Without punctuation, words are standardized, making it easier for downstream processing tasks such as tokenization, part-of-speech tagging, and sentiment analysis."
   ]
  },
  {
   "cell_type": "code",
   "execution_count": 21,
   "id": "49eeef42",
   "metadata": {},
   "outputs": [
    {
     "name": "stdout",
     "output_type": "stream",
     "text": [
      "fsd sdfsdfdsvv Hello world This is a sample text with punctuations\n"
     ]
    }
   ],
   "source": [
    "import string\n",
    "\n",
    "def remove_punctuation(text):\n",
    "    # Define a translation table with punctuations mapped to None\n",
    "    translator = str.maketrans('', '', string.punctuation)\n",
    "    # Remove punctuations using translate method\n",
    "    text_without_punctuations = text.translate(translator)\n",
    "    return text_without_punctuations\n",
    "\n",
    "# Example usage:\n",
    "text_with_punctuations = \"fsd*?~,,,( sdfsdfdsvv)# Hello, world! .....This is a sample text with punctuations.\"\n",
    "clean_text = remove_punctuation(text_with_punctuations)\n",
    "print(clean_text)\n"
   ]
  },
  {
   "cell_type": "markdown",
   "id": "e043833a",
   "metadata": {},
   "source": [
    "Removal of Numbers:"
   ]
  },
  {
   "cell_type": "markdown",
   "id": "1ed9ea40",
   "metadata": {},
   "source": [
    " In tasks that involve feature extraction or vectorization of text data, such as bag-of-words or TF-IDF representation, including numbers as features can lead to increased dimensionality and potentially degrade model performance. Removing numbers can help mitigate this issue."
   ]
  },
  {
   "cell_type": "code",
   "execution_count": 22,
   "id": "e6c4b01e",
   "metadata": {},
   "outputs": [
    {
     "data": {
      "text/plain": [
       "'number is removed'"
      ]
     },
     "execution_count": 22,
     "metadata": {},
     "output_type": "execute_result"
    }
   ],
   "source": [
    "def removeNumbers(sentence):\n",
    "    sentence = re.sub(\"\\S*\\d\\S*\", \" \", sentence).strip()\n",
    "    return (sentence)\n",
    "\n",
    "removeNumbers(\"The5 number is removed 555 re64884moved55\")"
   ]
  },
  {
   "cell_type": "markdown",
   "id": "07123c0f",
   "metadata": {},
   "source": [
    "Removal URL from sentences."
   ]
  },
  {
   "cell_type": "markdown",
   "id": "97d2ab9e",
   "metadata": {},
   "source": [
    "URLs typically don't carry semantic meaning and are not relevant for many NLP tasks."
   ]
  },
  {
   "cell_type": "code",
   "execution_count": 23,
   "id": "d91dd381",
   "metadata": {},
   "outputs": [
    {
     "data": {
      "text/plain": [
       "'  notice the URL is removed'"
      ]
     },
     "execution_count": 23,
     "metadata": {},
     "output_type": "execute_result"
    }
   ],
   "source": [
    "def removeURL(sentence):\n",
    "    text = re.sub(r\"http\\S+\", \" \", sentence)\n",
    "    sentence = re.sub(r\"www.\\S+\", \" \", text)\n",
    "    return (sentence)\n",
    "\n",
    "removeURL(\"https://www.google.com/search?client/utf-8 notice the URL is removed\")"
   ]
  },
  {
   "cell_type": "markdown",
   "id": "8193a0fb",
   "metadata": {},
   "source": [
    "Remove words which has three or more consecutive repeating characters."
   ]
  },
  {
   "cell_type": "code",
   "execution_count": 24,
   "id": "6f664766",
   "metadata": {},
   "outputs": [
    {
     "name": "stdout",
     "output_type": "stream",
     "text": [
      "This looks  good! I am so \n"
     ]
    }
   ],
   "source": [
    "import re\n",
    "\n",
    "def remove_repeated_characters(sentence):\n",
    "    # Define a regular expression pattern to match words with three or more consecutive repeating characters\n",
    "    pattern = r'\\b\\w*(\\w)\\1{2,}\\w*\\b'\n",
    "    # Replace matched words with a space\n",
    "    cleaned_sentence = re.sub(pattern, '', sentence)\n",
    "    return cleaned_sentence\n",
    "\n",
    "# Example usage:\n",
    "sentence = \"This looks soooooooo good! I am so happpyyy\"\n",
    "cleaned_sentence = remove_repeated_characters(sentence)\n",
    "print(cleaned_sentence)"
   ]
  },
  {
   "cell_type": "markdown",
   "id": "1ad5d36f",
   "metadata": {},
   "source": [
    "Removing Stopwords"
   ]
  },
  {
   "cell_type": "markdown",
   "id": "d5e1bee3",
   "metadata": {},
   "source": []
  },
  {
   "cell_type": "code",
   "execution_count": 44,
   "id": "4998da87",
   "metadata": {},
   "outputs": [],
   "source": [
    "from nltk.corpus import stopwords\n",
    "def remove_stopwords(text):\n",
    "    stop_words = set(stopwords.words('english'))\n",
    "    words = word_tokenize(text)\n",
    "    filtered_words = [word for word in words if word.lower() not in stop_words]\n",
    "    return ' '.join(filtered_words)"
   ]
  },
  {
   "cell_type": "markdown",
   "id": "01c68a9c",
   "metadata": {},
   "source": [
    "Stemming"
   ]
  },
  {
   "cell_type": "markdown",
   "id": "3519eb97",
   "metadata": {},
   "source": [
    "Stemming helps in the reduction of the words to a compact form called word stem). Ex: taste ,tasty ,tasteful for these words base form is tast ,after stemming ."
   ]
  },
  {
   "cell_type": "code",
   "execution_count": 34,
   "id": "2b156401",
   "metadata": {},
   "outputs": [],
   "source": [
    "from nltk.stem import SnowballStemmer\n",
    "def stemming(text):\n",
    "    sno = SnowballStemmer('english')\n",
    "    words = text.split()\n",
    "    stemmed_words = [sno.stem(word) for word in words]\n",
    "    return ' '.join(stemmed_words)"
   ]
  },
  {
   "cell_type": "code",
   "execution_count": 45,
   "id": "b945d5a9",
   "metadata": {},
   "outputs": [
    {
     "name": "stderr",
     "output_type": "stream",
     "text": [
      "C:\\Users\\nishtha tandon\\AppData\\Local\\Temp\\ipykernel_9136\\297766765.py:2: TqdmDeprecationWarning: This function will be removed in tqdm==5.0.0\n",
      "Please use `tqdm.notebook.tqdm` instead of `tqdm.tqdm_notebook`\n",
      "  for idx, row in tqdm(final.iterrows(), total=final.shape[0]):\n"
     ]
    },
    {
     "data": {
      "application/vnd.jupyter.widget-view+json": {
       "model_id": "1df3d7258e0940249fe937672ce0bc98",
       "version_major": 2,
       "version_minor": 0
      },
      "text/plain": [
       "  0%|          | 0/364145 [00:00<?, ?it/s]"
      ]
     },
     "metadata": {},
     "output_type": "display_data"
    },
    {
     "name": "stderr",
     "output_type": "stream",
     "text": [
      "C:\\Users\\nishtha tandon\\anaconda3\\lib\\site-packages\\bs4\\__init__.py:435: MarkupResemblesLocatorWarning: The input looks more like a filename than markup. You may want to open this file and pass the filehandle into Beautiful Soup.\n",
      "  warnings.warn(\n"
     ]
    }
   ],
   "source": [
    "from tqdm import tqdm_notebook as tqdm\n",
    "for idx, row in tqdm(final.iterrows(), total=final.shape[0]):\n",
    "    text = row['Text']\n",
    "    text = remove_html_tags(text)\n",
    "    text = removeURL(text)\n",
    "    text=removeNumbers(text)\n",
    "    text = remove_punctuation(text)\n",
    "    text = remove_repeated_characters(text)\n",
    "    text = remove_stopwords(text)\n",
    "    text = stemming(text)\n",
    "    final.at[idx, 'Text'] = text"
   ]
  },
  {
   "cell_type": "code",
   "execution_count": 46,
   "id": "4b3c8830",
   "metadata": {},
   "outputs": [
    {
     "data": {
      "text/plain": [
       "0    bought sever vital can dog food product found ...\n",
       "1    product arriv label jumbo salt peanutsth peanu...\n",
       "2    confect around centuri light pillowi citrus ge...\n",
       "3    look secret ingredi robitussin believ found go...\n",
       "4    great taffi great price wide assort yummi taff...\n",
       "Name: Text, dtype: object"
      ]
     },
     "execution_count": 46,
     "metadata": {},
     "output_type": "execute_result"
    }
   ],
   "source": [
    "final['Text'].head()"
   ]
  },
  {
   "cell_type": "code",
   "execution_count": null,
   "id": "33b77ace",
   "metadata": {},
   "outputs": [],
   "source": []
  },
  {
   "cell_type": "code",
   "execution_count": null,
   "id": "ded61163",
   "metadata": {},
   "outputs": [],
   "source": []
  },
  {
   "cell_type": "code",
   "execution_count": null,
   "id": "5a3827b0",
   "metadata": {},
   "outputs": [],
   "source": []
  }
 ],
 "metadata": {
  "kernelspec": {
   "display_name": "Python 3 (ipykernel)",
   "language": "python",
   "name": "python3"
  },
  "language_info": {
   "codemirror_mode": {
    "name": "ipython",
    "version": 3
   },
   "file_extension": ".py",
   "mimetype": "text/x-python",
   "name": "python",
   "nbconvert_exporter": "python",
   "pygments_lexer": "ipython3",
   "version": "3.9.12"
  }
 },
 "nbformat": 4,
 "nbformat_minor": 5
}
